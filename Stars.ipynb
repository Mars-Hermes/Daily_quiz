{
 "cells": [
  {
   "cell_type": "markdown",
   "id": "76739955",
   "metadata": {},
   "source": [
    "# Create a loop to display stars in an inverse right triangle format."
   ]
  },
  {
   "cell_type": "code",
   "execution_count": 2,
   "id": "5fbc9f24",
   "metadata": {},
   "outputs": [
    {
     "name": "stdout",
     "output_type": "stream",
     "text": [
      "                                                                                                    *\n",
      "                                                                                                   **\n",
      "                                                                                                  ***\n",
      "                                                                                                 ****\n",
      "                                                                                                *****\n",
      "                                                                                               ******\n"
     ]
    }
   ],
   "source": [
    "for i in range(6):\n",
    "    print(\" \" * (100-i), end=\"\")\n",
    "    for mars in range(i+1):\n",
    "        print(\"*\", end=\"\")\n",
    "    print(\"\")"
   ]
  },
  {
   "cell_type": "code",
   "execution_count": null,
   "id": "e8923f99",
   "metadata": {},
   "outputs": [],
   "source": []
  }
 ],
 "metadata": {
  "kernelspec": {
   "display_name": "Python 3 (ipykernel)",
   "language": "python",
   "name": "python3"
  },
  "language_info": {
   "codemirror_mode": {
    "name": "ipython",
    "version": 3
   },
   "file_extension": ".py",
   "mimetype": "text/x-python",
   "name": "python",
   "nbconvert_exporter": "python",
   "pygments_lexer": "ipython3",
   "version": "3.10.9"
  }
 },
 "nbformat": 4,
 "nbformat_minor": 5
}
