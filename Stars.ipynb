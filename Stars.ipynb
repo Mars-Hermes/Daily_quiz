{
 "cells": [
  {
   "cell_type": "markdown",
   "id": "2a6daca7",
   "metadata": {},
   "source": [
    "# Create a loop to display stars in an inverse right triangle format."
   ]
  },
  {
   "cell_type": "code",
   "execution_count": 1,
   "id": "7b259ca8",
   "metadata": {},
   "outputs": [
    {
     "name": "stdout",
     "output_type": "stream",
     "text": [
      "                                                                                                                   *\n",
      "                                                                                                                  **\n",
      "                                                                                                                 ***\n",
      "                                                                                                                ****\n",
      "                                                                                                               *****\n",
      "                                                                                                              ******\n"
     ]
    }
   ],
   "source": [
    "for i in range(6):\n",
    "    print(\" \" * (115-i), end=\"\")\n",
    "    for mars in range(i+1):\n",
    "        print(\"*\", end=\"\")\n",
    "    print(\"\")"
   ]
  },
  {
   "cell_type": "code",
   "execution_count": null,
   "id": "e4993679",
   "metadata": {},
   "outputs": [],
   "source": []
  }
 ],
 "metadata": {
  "kernelspec": {
   "display_name": "Python 3 (ipykernel)",
   "language": "python",
   "name": "python3"
  },
  "language_info": {
   "codemirror_mode": {
    "name": "ipython",
    "version": 3
   },
   "file_extension": ".py",
   "mimetype": "text/x-python",
   "name": "python",
   "nbconvert_exporter": "python",
   "pygments_lexer": "ipython3",
   "version": "3.10.9"
  }
 },
 "nbformat": 4,
 "nbformat_minor": 5
}
